{
 "cells": [
  {
   "cell_type": "raw",
   "id": "b2b4686b-5b20-4f6a-889c-a9e46e05c411",
   "metadata": {},
   "source": [
    "# For Loop :-\n"
   ]
  },
  {
   "cell_type": "code",
   "execution_count": 2,
   "id": "f57b6f35-ad8b-4855-91e2-3d734e23c5cb",
   "metadata": {},
   "outputs": [
    {
     "name": "stdout",
     "output_type": "stream",
     "text": [
      "1\n",
      "2\n",
      "3\n",
      "4\n",
      "5\n",
      "6\n",
      "7\n",
      "8\n",
      "9\n",
      "10\n"
     ]
    }
   ],
   "source": [
    "# Write a Python program to print numbers from 1 to 10 using a for loop.\n",
    "for num in range(1,11):\n",
    "    print(num)"
   ]
  },
  {
   "cell_type": "raw",
   "id": "746adb2e-bdf1-46ba-a015-43db1eae20b0",
   "metadata": {},
   "source": [
    "#Explain the difference between a for loop and a while loop in Python.\n",
    "ANS ==\n",
    "In Python (and in many other programming languages), both for loops and while loops are control flow structures that allow you to execute a block of code repeatedly. However, they have different ways of controlling this repetition.\n",
    "\n",
    "1)For Loop\n",
    "A for loop is used to iterate over a sequence of items, such as a list, tuple, or string.\n",
    "Syntax:\n",
    "for item in iterable:\n",
    "    # Code block to be executed\n",
    "    # The 'item' takes on each element in the iterable in each iteration\n",
    "\n",
    "Example::\n",
    "fruits = ['apple', 'banana', 'cherry']\n",
    "for fruit in fruits:\n",
    "    print(fruit)\n",
    "\n",
    "2)While Loop\n",
    "A while loop is used to repeatedly execute a block of statements while a condition is true.\n",
    "\n",
    "Syntax:\n",
    "while condition:\n",
    "    # Code block to be executed\n",
    "    \n",
    "Example:\n",
    "count = 0\n",
    "while count < 5:\n",
    "    print(count)\n",
    "    count += 1"
   ]
  },
  {
   "cell_type": "code",
   "execution_count": 7,
   "id": "28d80a65-ba86-4741-9609-1b5abc36b4f5",
   "metadata": {},
   "outputs": [
    {
     "name": "stdout",
     "output_type": "stream",
     "text": [
      "4950\n"
     ]
    }
   ],
   "source": [
    "# Write a Python program to calculate the sum of all numbers from 1 to 100 using a for loop.\n",
    "sum=0\n",
    "for i in range(1,100):\n",
    "    sum=sum+i\n",
    "print(sum)"
   ]
  },
  {
   "cell_type": "code",
   "execution_count": 3,
   "id": "2230f1a7-6696-4b01-a1d4-58f94e749f0c",
   "metadata": {},
   "outputs": [
    {
     "name": "stdout",
     "output_type": "stream",
     "text": [
      "1\n",
      "2\n",
      "3\n",
      "4\n",
      "5\n"
     ]
    }
   ],
   "source": [
    "# How do you iterate through a list using a for loop in Python?\n",
    "l=[1,2,3,4,5]\n",
    "for i in l:\n",
    "    print(i)"
   ]
  },
  {
   "cell_type": "code",
   "execution_count": 3,
   "id": "ff78c8e9-41e2-413d-85fd-9231bc2e3d6f",
   "metadata": {},
   "outputs": [
    {
     "name": "stdout",
     "output_type": "stream",
     "text": [
      "120\n"
     ]
    }
   ],
   "source": [
    "# Write a Python program to find the product of all elements in a list using a for loop\n",
    "l=[1, 2, 3, 4, 5]\n",
    "prod=1\n",
    "for i in l:\n",
    "    prod*=i\n",
    "print(prod)\n",
    "    "
   ]
  },
  {
   "cell_type": "code",
   "execution_count": 4,
   "id": "486f0667-8a68-4ff6-963d-60303475d2ee",
   "metadata": {},
   "outputs": [
    {
     "name": "stdout",
     "output_type": "stream",
     "text": [
      "2\n",
      "4\n",
      "6\n",
      "8\n",
      "10\n",
      "12\n",
      "14\n",
      "16\n",
      "18\n",
      "20\n"
     ]
    }
   ],
   "source": [
    "# Create a Python program that prints all even numbers from 1 to 20 using a for loop.\n",
    "for i in range(1,21):\n",
    "    if i%2==0:\n",
    "        print(i)"
   ]
  },
  {
   "cell_type": "code",
   "execution_count": 6,
   "id": "89ed879a-1904-43fb-9790-6b581b1b0763",
   "metadata": {},
   "outputs": [
    {
     "name": "stdin",
     "output_type": "stream",
     "text": [
      "ENter a Num 5\n"
     ]
    },
    {
     "name": "stdout",
     "output_type": "stream",
     "text": [
      "Factorial is 120\n"
     ]
    }
   ],
   "source": [
    "# Write a Python program that calculates the factorial of a number using a for loop.\n",
    "n=int(input('ENter a Num'))\n",
    "result=1\n",
    "for i in range(1,n+1):\n",
    "    result*=i\n",
    "print('Factorial is',result)"
   ]
  },
  {
   "cell_type": "raw",
   "id": "49914207-530a-49ce-88d8-cac7b3f6c37b",
   "metadata": {},
   "source": [
    "# How can you iterate through the characters of a string using a for loop in Python?\n",
    "ANS:=\n",
    "To iterate through the characters of a string using a for loop in Python, you can simply use the string as an iterable. In Python, a string is an iterable, where each character in the string is considered an element.\n",
    "\n",
    "Here's how you can iterate through the characters of a string using a for loop:\n",
    "\n",
    "my_string = \"Hello, World!\"\n",
    "for char in my_string:\n",
    "    print(char)\n",
    "    \n",
    "In this example, the for loop iterates through each character in the my_string and prints each character one by one."
   ]
  },
  {
   "cell_type": "code",
   "execution_count": 6,
   "id": "aea897e2-70f2-4df4-9106-bef5c758fcd1",
   "metadata": {},
   "outputs": [
    {
     "name": "stdout",
     "output_type": "stream",
     "text": [
      "54\n"
     ]
    }
   ],
   "source": [
    "# Write a Python program to find the largest number in a list using a for loop.\n",
    "l=[1,3,54,7,8]\n",
    "for i in l:\n",
    "    a=max(l)\n",
    "print(a)"
   ]
  },
  {
   "cell_type": "code",
   "execution_count": 10,
   "id": "aecd800d-fc2c-44c6-90d7-698f1d11ddfd",
   "metadata": {},
   "outputs": [
    {
     "name": "stdout",
     "output_type": "stream",
     "text": [
      "0\n",
      "1\n",
      "1\n",
      "2\n",
      "3\n",
      "5\n",
      "8\n",
      "13\n",
      "21\n",
      "34\n",
      "55\n"
     ]
    }
   ],
   "source": [
    "# Create a Python program that prints the Fibonacci sequence up to a specified limit using a for loop.\n",
    "l=11\n",
    "a=0\n",
    "b=1\n",
    "print(a)\n",
    "print(b)\n",
    "for i in range(2,l):\n",
    "    c=a+b\n",
    "    print(c)\n",
    "    a=b\n",
    "    b=c   "
   ]
  },
  {
   "cell_type": "code",
   "execution_count": 1,
   "id": "e75f7725-d5c3-4ade-945b-886f0cb9b154",
   "metadata": {},
   "outputs": [
    {
     "name": "stdout",
     "output_type": "stream",
     "text": [
      "2\n"
     ]
    }
   ],
   "source": [
    "# Write a Python program to count the number of vowels in a given string using a for loop.\n",
    "vowel='aeiouAEIOU'\n",
    "string='kunal'\n",
    "count=0\n",
    "for i in string:\n",
    "    if i in vowel:\n",
    "        count+=1\n",
    "print(count)"
   ]
  },
  {
   "cell_type": "code",
   "execution_count": 1,
   "id": "624b3aaa-bc93-4582-a12a-eba121e52d13",
   "metadata": {},
   "outputs": [
    {
     "name": "stdin",
     "output_type": "stream",
     "text": [
      "Enter a number: 5\n"
     ]
    },
    {
     "name": "stdout",
     "output_type": "stream",
     "text": [
      "5 X 1 = 5\n",
      "5 X 2 = 10\n",
      "5 X 3 = 15\n",
      "5 X 4 = 20\n",
      "5 X 5 = 25\n",
      "5 X 6 = 30\n",
      "5 X 7 = 35\n",
      "5 X 8 = 40\n",
      "5 X 9 = 45\n",
      "5 X 10 = 50\n"
     ]
    }
   ],
   "source": [
    "# Create a Python program that generates a multiplication table for a given number using a for loop.\n",
    "p=int(input('Enter a number:'))\n",
    "for i in range(1,11):\n",
    "    print(p,'X',i,'=',p*i)"
   ]
  },
  {
   "cell_type": "code",
   "execution_count": 17,
   "id": "8cc6f1a9-0d85-4f13-80c8-9afaeb56c01d",
   "metadata": {},
   "outputs": [
    {
     "name": "stdout",
     "output_type": "stream",
     "text": [
      "[9, 8, 7, 6, 4, 3, 2]\n"
     ]
    }
   ],
   "source": [
    "# Write a Python program to reverse a list using a for loop.\n",
    "l=[2,3,4,6,7,8,9]\n",
    "for i in l:\n",
    "    a=l[::-1]\n",
    "print(a) "
   ]
  },
  {
   "cell_type": "code",
   "execution_count": 21,
   "id": "a76b0a19-973d-4201-af8d-55aae1dea95b",
   "metadata": {},
   "outputs": [
    {
     "name": "stdout",
     "output_type": "stream",
     "text": [
      "[2, 4, 6]\n"
     ]
    }
   ],
   "source": [
    "# Write a Python program to find the common elements between two lists using a for loop.\n",
    "l=[1,2,3,4,6]\n",
    "p=[2,4,5,6,7]\n",
    "for i in l:\n",
    "    c=[value for value in l if value in p] \n",
    "print(c)"
   ]
  },
  {
   "cell_type": "raw",
   "id": "9a0a13a6-3d53-46b1-8426-6b329fcec096",
   "metadata": {},
   "source": [
    "# Explain how to use a for loop to iterate through the keys and values of a dictionary in Python.?\n",
    "ANS:=\n",
    "In Python, you can use a for loop to iterate through the keys, values, or key-value pairs (items) of a dictionary. Here's how you can achieve this:\n",
    "\n",
    "1)Iterating through Keys:\n",
    "You can use the .keys() method of a dictionary to iterate through its keys.\n",
    "\n",
    "Example:\n",
    "my_dict = {'a': 1, 'b': 2, 'c': 3}\n",
    "for key in my_dict.keys():\n",
    "    print(key)\n",
    "In this example, the loop iterates through the keys of the my_dict dictionary and prints each key.\n",
    "\n",
    "2)Iterating through Values:\n",
    "\n",
    "You can use the .values() method of a dictionary to iterate through its values.\n",
    "\n",
    "Example:\n",
    "my_dict = {'a': 1, 'b': 2, 'c': 3}\n",
    "for value in my_dict.values():\n",
    "    print(value)\n",
    "This loop iterates through the values of the my_dict dictionary and prints each value.\n",
    "\n",
    "3)Iterating through Key-Value Pairs (Items):\n",
    "\n",
    "You can use the .items() method of a dictionary to iterate through its key-value pairs (items).\n",
    "\n",
    "Example:\n",
    "my_dict = {'a': 1, 'b': 2, 'c': 3}\n",
    "for key, value in my_dict.items():\n",
    "    print(f'Key: {key}, Value: {value}')\n",
    "\n",
    "\n",
    "Here, the loop iterates through the key-value pairs (items) of the my_dict dictionary and prints each key-value pair."
   ]
  },
  {
   "cell_type": "code",
   "execution_count": 12,
   "id": "f5f5fd9f-2667-4a72-b417-afddf0128d40",
   "metadata": {},
   "outputs": [
    {
     "name": "stdin",
     "output_type": "stream",
     "text": [
      "Enter the first number:  12\n",
      "Enter the second number:  18\n"
     ]
    },
    {
     "name": "stdout",
     "output_type": "stream",
     "text": [
      "6\n"
     ]
    }
   ],
   "source": [
    "# Write a Python program to find the GCD (Greatest Common Divisor) of two numbers using a for loop.\n",
    "a = int(input(\"Enter the first number: \"))\n",
    "b = int(input(\"Enter the second number: \"))\n",
    "gcd = 1\n",
    "for i in range(min(a, b), 0, -1):\n",
    "    if a % i == 0 and b % i == 0:\n",
    "        gcd = i\n",
    "        break\n",
    "print(gcd)\n"
   ]
  },
  {
   "cell_type": "code",
   "execution_count": 11,
   "id": "2facbebb-4612-4651-8550-e7b72b4b9aef",
   "metadata": {},
   "outputs": [
    {
     "name": "stdout",
     "output_type": "stream",
     "text": [
      "String is a palindrome\n"
     ]
    }
   ],
   "source": [
    "# Create a Python program that checks if a string is a palindrome using a for loop.\n",
    "str='mom'\n",
    "for i in range(1):\n",
    "    if str[::-1]==str:\n",
    "        print('String is a palindrome')\n",
    "    else:\n",
    "        print('String is not a palindrome')\n",
    "        "
   ]
  },
  {
   "cell_type": "code",
   "execution_count": 19,
   "id": "db050ce4-6249-40b6-bf92-94dd46b879f1",
   "metadata": {},
   "outputs": [
    {
     "name": "stdout",
     "output_type": "stream",
     "text": [
      "[1, 2, 3, 4, 5]\n"
     ]
    }
   ],
   "source": [
    "# Write a Python program to remove duplicates from a list using a for loop.\n",
    "list1 = [1, 2, 3, 4, 5, 1, 2, 3]\n",
    "unique_list = []\n",
    "for i in list1:\n",
    "    if i not in unique_list :\n",
    "        unique_list.append(i)\n",
    "print(unique_list )\n"
   ]
  },
  {
   "cell_type": "code",
   "execution_count": 37,
   "id": "a3687abd-884c-4230-bf39-292fbac96103",
   "metadata": {},
   "outputs": [
    {
     "name": "stdout",
     "output_type": "stream",
     "text": [
      "number of charcter 25\n",
      "word 4\n"
     ]
    }
   ],
   "source": [
    "# Create a Python program that counts the number of words in a sentence using a for loop.\n",
    "p='kunal appa loves my india'\n",
    "char=0\n",
    "word=0\n",
    "for i in p:\n",
    "    char=char+1\n",
    "    if(i==' '):\n",
    "        word=word+1\n",
    "print('number of charcter',char)\n",
    "print('word',word)"
   ]
  },
  {
   "cell_type": "code",
   "execution_count": 40,
   "id": "534c873f-aaa4-4389-a96b-26c0ec39b54a",
   "metadata": {},
   "outputs": [
    {
     "name": "stdout",
     "output_type": "stream",
     "text": [
      "1275\n"
     ]
    }
   ],
   "source": [
    "# write a Python program to find the sum of all odd numbers from 1 to 50 using a for loop.\n",
    "sum=0\n",
    "for i in range(1,51):\n",
    "    sum+=i\n",
    "print(sum)"
   ]
  },
  {
   "cell_type": "code",
   "execution_count": 43,
   "id": "9d6bf132-f6d2-4162-8bd4-66dfdfcc2d05",
   "metadata": {},
   "outputs": [
    {
     "name": "stdin",
     "output_type": "stream",
     "text": [
      "Enter a year 1197\n"
     ]
    },
    {
     "name": "stdout",
     "output_type": "stream",
     "text": [
      "year is not a leap year\n"
     ]
    }
   ],
   "source": [
    "# Write a Python program that checks if a given year is a leap year using a for loop.\n",
    "year=int(input('Enter a year'))\n",
    "for i in range(1):\n",
    "    if year%4==0:\n",
    "        print('year is leap year')\n",
    "    else:\n",
    "        print('year is not a leap year')\n",
    "    "
   ]
  },
  {
   "cell_type": "code",
   "execution_count": 45,
   "id": "a8a46ef4-76ae-45b0-85e3-0f9ef01d6bca",
   "metadata": {},
   "outputs": [
    {
     "name": "stdin",
     "output_type": "stream",
     "text": [
      "Enter a number 5\n"
     ]
    },
    {
     "name": "stdout",
     "output_type": "stream",
     "text": [
      "25\n"
     ]
    }
   ],
   "source": [
    "# Create a Python program that calculates the square root of a number using a for loop.\n",
    "square_root=int(input('Enter a number'))\n",
    "for i in range(1):\n",
    "    square=square_root**2\n",
    "print(square)"
   ]
  },
  {
   "cell_type": "code",
   "execution_count": 22,
   "id": "07b99c85-5daf-40c3-9e79-79b20719c08f",
   "metadata": {},
   "outputs": [
    {
     "name": "stdout",
     "output_type": "stream",
     "text": [
      "6\n"
     ]
    }
   ],
   "source": [
    "# Write a Python program to find the LCM (Least Common Multiple) of two numbers using a for loop.\n",
    "a = 12\n",
    "b = 18\n",
    "lcm = 1\n",
    "for i in range(1, max(a, b) + 1):\n",
    "    if a % i == 0 and b % i == 0:\n",
    "        lcm = i\n",
    "print(lcm)"
   ]
  },
  {
   "cell_type": "code",
   "execution_count": 49,
   "id": "c8ab3a2d-018c-4224-a9ba-65ebcc5b9d04",
   "metadata": {},
   "outputs": [],
   "source": [
    "# if Else"
   ]
  },
  {
   "cell_type": "code",
   "execution_count": 52,
   "id": "7b0250a3-fa6b-467b-b4fa-8834f3a6277f",
   "metadata": {},
   "outputs": [
    {
     "name": "stdin",
     "output_type": "stream",
     "text": [
      "Enter a number -4\n"
     ]
    },
    {
     "name": "stdout",
     "output_type": "stream",
     "text": [
      "Number is Negative\n"
     ]
    }
   ],
   "source": [
    "# Write a Python program to check if a number is positive, negative, or zero using an if-else statement.\n",
    "num=int(input('Enter a number'))\n",
    "if num<0:\n",
    "    print('Number is Negative')\n",
    "elif num==0:\n",
    "    print('Number is Zero')\n",
    "else:\n",
    "    print('Number is Positive')"
   ]
  },
  {
   "cell_type": "code",
   "execution_count": 53,
   "id": "1181ba4a-4c09-4090-9959-8c924aeee149",
   "metadata": {},
   "outputs": [
    {
     "name": "stdin",
     "output_type": "stream",
     "text": [
      "Enter a number 5\n"
     ]
    },
    {
     "name": "stdout",
     "output_type": "stream",
     "text": [
      "Number is a odd number\n"
     ]
    }
   ],
   "source": [
    "# Create a Python program that checks if a given number is even or odd using an if-else statement.\n",
    "num=int(input('Enter a number'))\n",
    "if num%2==0:\n",
    "    print('Number is a even Number')\n",
    "else:\n",
    "    print('Number is a odd number')"
   ]
  },
  {
   "cell_type": "raw",
   "id": "5d549aa3-93df-4545-ad32-8cf10f3af37b",
   "metadata": {},
   "source": [
    "# How can you use nested if-else statements in Python, and provide an example?\n",
    "ANS::=\n",
    "Nested if-else statements in Python can be used to execute different code blocks based on the results of multiple conditions.Nested if-else statements in Python allow you to have multiple levels of conditional branching, where each level contains its own if-else statements. This enables you to have more complex decision-making logic based on various conditions\n",
    "\n",
    "The basic syntax of a nested if-else statement is as follows:\n",
    "if condition1:\n",
    "    # Code block for condition1 being True\n",
    "    if nested_condition1:\n",
    "        # Code block for nested_condition1 being True\n",
    "    else:\n",
    "        # Code block for nested_condition1 being False\n",
    "elif condition2:\n",
    "    # Code block for condition2 being True\n",
    "else:\n",
    "    # Code block for both condition1 and condition2 being False\n",
    "\n",
    "\n",
    "Example::\n",
    "age = int(input(\"Enter your age: \"))\n",
    "if age >= 18:\n",
    "    if age >= 21:\n",
    "        print(\"You are an adult and can drink alcohol.\")\n",
    "    else:\n",
    "        print(\"You are an adult but cannot drink alcohol yet.\")\n",
    "else:\n",
    "    print(\"You are not an adult and cannot drink alcohol.\")\n"
   ]
  },
  {
   "cell_type": "code",
   "execution_count": 64,
   "id": "fdbfe871-3c00-4bf4-b1ac-221967936cbe",
   "metadata": {},
   "outputs": [
    {
     "name": "stdout",
     "output_type": "stream",
     "text": [
      "third number c is greter\n"
     ]
    }
   ],
   "source": [
    "# Write a Python program to determine the largest of three numbers using if-else.\n",
    "a=240\n",
    "b=1500\n",
    "c=45000\n",
    "if a>b and a>c:\n",
    "    print('First number a is greter')\n",
    "elif b>c and b>a:\n",
    "    print('Second number b is greter')\n",
    "elif c>a and c>b:\n",
    "    print('third number c is greter')"
   ]
  },
  {
   "cell_type": "code",
   "execution_count": 3,
   "id": "9f8cc031-a652-4fb7-a25e-dc19f60c57a4",
   "metadata": {},
   "outputs": [
    {
     "name": "stdin",
     "output_type": "stream",
     "text": [
      "Enter a number -5\n"
     ]
    },
    {
     "name": "stdout",
     "output_type": "stream",
     "text": [
      "5\n"
     ]
    }
   ],
   "source": [
    "# Write a Python program that calculates the absolute value of a number using if-else.\n",
    "num=int(input('Enter a number'))\n",
    "if num==num:\n",
    "    print(-num)\n",
    "elif num==(-num):\n",
    "    print(num)"
   ]
  },
  {
   "cell_type": "code",
   "execution_count": 3,
   "id": "d4d7d839-a8df-457f-b164-8aa325d052a9",
   "metadata": {},
   "outputs": [
    {
     "name": "stdin",
     "output_type": "stream",
     "text": [
      "Enter a characters: r\n"
     ]
    },
    {
     "name": "stdout",
     "output_type": "stream",
     "text": [
      "consonant\n"
     ]
    }
   ],
   "source": [
    "# Create a Python program that checks if a given character is a vowel or consonant using if-else.\n",
    "vowel=\"aeiouAEIOU\"\n",
    "alphabets=input('Enter a characters:')\n",
    "if alphabets in vowel:\n",
    "    print('vowels')\n",
    "else:\n",
    "    print('consonant')"
   ]
  },
  {
   "cell_type": "code",
   "execution_count": 6,
   "id": "bfb52841-05b5-4218-ac2a-a35e02649085",
   "metadata": {},
   "outputs": [
    {
     "name": "stdin",
     "output_type": "stream",
     "text": [
      "Enter your age: 12\n"
     ]
    },
    {
     "name": "stdout",
     "output_type": "stream",
     "text": [
      "user is not elligible to vote\n"
     ]
    }
   ],
   "source": [
    "# Write a Python program to determine if a user is eligible to vote based on their age using if-else.\n",
    "age=int(input('Enter your age:'))\n",
    "if age<18:\n",
    "    print('user is not elligible to vote')\n",
    "else:\n",
    "    print('user is eligible to vote')"
   ]
  },
  {
   "cell_type": "code",
   "execution_count": 14,
   "id": "579fa67e-5ab2-4cf5-8118-da4906e8ff85",
   "metadata": {},
   "outputs": [
    {
     "name": "stdin",
     "output_type": "stream",
     "text": [
      "Enter Your purchase amount 20000\n"
     ]
    },
    {
     "name": "stdout",
     "output_type": "stream",
     "text": [
      "the discount amount is 2000.0\n"
     ]
    }
   ],
   "source": [
    "# Create a Python program that calculates the discount amount based on the purchase amount using if-else.\n",
    "purchase_amount=int(input('Enter Your purchase amount'))\n",
    "if purchase_amount>=4000:\n",
    "    dis=(purchase_amount/100)* 10\n",
    "    print('the discount amount is',dis)\n",
    "else:\n",
    "    print('No discount')"
   ]
  },
  {
   "cell_type": "code",
   "execution_count": 25,
   "id": "b412cc9a-71e3-4159-a6b8-e383b8c5bc28",
   "metadata": {},
   "outputs": [
    {
     "name": "stdin",
     "output_type": "stream",
     "text": [
      "Enter a Number: 25\n"
     ]
    },
    {
     "name": "stdout",
     "output_type": "stream",
     "text": [
      "Number is between 10 to 50\n"
     ]
    }
   ],
   "source": [
    "# Write a Python program to check if a number is within a specified range using if-else.\n",
    "num=int(input('Enter a Number:'))\n",
    "if num<=50 and num>=10:\n",
    "    print('Number is between 10 to 50')\n",
    "else:\n",
    "    print('Not in a range')"
   ]
  },
  {
   "cell_type": "code",
   "execution_count": 12,
   "id": "eb8445c3-29c9-48f8-9f92-ecc0fd4de1ad",
   "metadata": {},
   "outputs": [
    {
     "name": "stdin",
     "output_type": "stream",
     "text": [
      "Enter a score in percentage 85\n"
     ]
    },
    {
     "name": "stdout",
     "output_type": "stream",
     "text": [
      "A+\n"
     ]
    }
   ],
   "source": [
    "# Create a Python program that determines the grade of a student based on their score using if-else.\n",
    "score=float(input('Enter a score in percentage'))\n",
    "if score>=80:\n",
    "    print('A+')\n",
    "elif score<80 and score>=60:\n",
    "    print('A')\n",
    "elif score<60 and score>=40:\n",
    "    print(\"B+\")\n",
    "else:\n",
    "    print('Fail')"
   ]
  },
  {
   "cell_type": "code",
   "execution_count": 23,
   "id": "baad5408-3d33-4165-bb0e-1627e181580d",
   "metadata": {},
   "outputs": [
    {
     "name": "stdout",
     "output_type": "stream",
     "text": [
      "String is not emptyt\n"
     ]
    }
   ],
   "source": [
    "# Write a Python program to check if a string is empty or not using if-else.\n",
    "p='  gh  '\n",
    "if len(p)==0:\n",
    "    print('String is empty')\n",
    "else:\n",
    "    print('String is not emptyt')"
   ]
  },
  {
   "cell_type": "code",
   "execution_count": 33,
   "id": "8111bb18-120a-42a3-b7f6-7d621d0e9497",
   "metadata": {},
   "outputs": [
    {
     "name": "stdin",
     "output_type": "stream",
     "text": [
      "first side of traingle 4\n",
      "second side of traingle 5\n",
      "third side of traingle 4\n"
     ]
    },
    {
     "name": "stdout",
     "output_type": "stream",
     "text": [
      "isosceles Traingle\n"
     ]
    }
   ],
   "source": [
    "# Create a Python program that identifies the type of a triangle (e.g., equilateral, isosceles, or scalene) based on input values using if-else\n",
    "l=int(input('first side of traingle'))\n",
    "m=int(input('second side of traingle'))\n",
    "n=int(input('third side of traingle'))\n",
    "if l==m a6nd m==n and l==n:\n",
    "    print('equilateral Traingle')\n",
    "elif l==m or m==n or l==n:\n",
    "    print('isosceles Traingle')\n",
    "else:\n",
    "    print('scalene Traingle')"
   ]
  },
  {
   "cell_type": "code",
   "execution_count": 37,
   "id": "29b3b7b9-3e75-4def-90d2-2b0afc30cc5a",
   "metadata": {},
   "outputs": [
    {
     "name": "stdin",
     "output_type": "stream",
     "text": [
      "Enter a number based on week days: 2\n"
     ]
    },
    {
     "name": "stdout",
     "output_type": "stream",
     "text": [
      "Tuesday\n"
     ]
    }
   ],
   "source": [
    "# Write a Python program to determine the day of the week based on a user-provided number using if-else\n",
    "num=int(input('Enter a number based on week days:'))\n",
    "if num==1:\n",
    "    print('Monday')\n",
    "elif num==2:\n",
    "    print('Tuesday')\n",
    "elif num==3:\n",
    "    print('Wensday')\n",
    "elif num==4:\n",
    "    print('Thusday')\n",
    "elif num==5:\n",
    "    print('Friday')\n",
    "elif num==6:\n",
    "    print('Satarday')\n",
    "elif num==7:\n",
    "    print('Sunday')\n",
    "else:\n",
    "    print('Enter a valid day from 1 to 7')"
   ]
  },
  {
   "cell_type": "code",
   "execution_count": 43,
   "id": "15cef3c8-679b-4d25-9729-6653b8d03f17",
   "metadata": {},
   "outputs": [
    {
     "name": "stdout",
     "output_type": "stream",
     "text": [
      "Leap year\n"
     ]
    }
   ],
   "source": [
    "# Create a Python program that checks if a given year is a leap year using both if-else and a function.\n",
    "def leap_year(year):\n",
    "    if year%4==0:\n",
    "        print('Leap year')\n",
    "    else:\n",
    "        print('Not a leap year')\n",
    "\n",
    "        \n",
    "leap_year(2004)        # calling a functiom"
   ]
  },
  {
   "cell_type": "raw",
   "id": "0be21bca-2868-4cbd-b347-0cfc21d7f925",
   "metadata": {},
   "source": [
    "# How do you use the \"assert\" statement in Python to add debugging checks within if-else blocks?\n",
    "ANS::=\n",
    "The assert statement in Python is used to add debugging checks within your code. It allows you to assert that a certain condition is true, and if it's not, it raises an AssertionError and provides a specified error message.\n",
    "\n",
    "Here's the basic syntax of the assert statement:\n",
    "\n",
    "assert condition, message\n",
    "\n",
    "condition: The condition that you want to check. If this condition is False, an AssertionError is raised.\n",
    "\n",
    "message: (Optional) A custom error message that you can provide to explain the assertion failure.\n",
    "\n",
    "\n",
    "Example:\n",
    "x = 10\n",
    "\n",
    "if x < 0:\n",
    "    assert False, \"x should be non-negative\"\n",
    "elif x == 0:\n",
    "    print(\"x is zero\")\n",
    "else:\n",
    "    print(\"x is positive\")\n",
    "\n",
    "In this example, if x is negative, an AssertionError is raised with the specified error message. This can be useful for debugging and identifying issues during development."
   ]
  },
  {
   "cell_type": "code",
   "execution_count": 3,
   "id": "2b661bbb-f19f-41de-b643-72b6a47d71b5",
   "metadata": {},
   "outputs": [
    {
     "name": "stdin",
     "output_type": "stream",
     "text": [
      "ENter a Age: 52\n"
     ]
    },
    {
     "name": "stdout",
     "output_type": "stream",
     "text": [
      " person is eligible for a senior citizen discount\n"
     ]
    }
   ],
   "source": [
    "# Create a Python program that determines the eligibility of a person for a senior citizen discount based on age using if-else.\n",
    "age=int(input('ENter a Age:'))\n",
    "if age>=50:\n",
    "    print(' person is eligible for a senior citizen discount')\n",
    "else:\n",
    "    print(' person is not eligible for a senior citizen discount')"
   ]
  },
  {
   "cell_type": "code",
   "execution_count": 9,
   "id": "8175cf9b-b10e-46fc-9723-6ae38fcccfd9",
   "metadata": {},
   "outputs": [
    {
     "name": "stdin",
     "output_type": "stream",
     "text": [
      "Enter a character: d\n"
     ]
    },
    {
     "name": "stdout",
     "output_type": "stream",
     "text": [
      "Lowercase\n"
     ]
    }
   ],
   "source": [
    "# Write a Python program to categorize a given character as uppercase, lowercase, or neither using if-else.\n",
    "char=input('Enter a character:')\n",
    "if char.lower():\n",
    "    print('Lowercase')\n",
    "elif char.uppercase():\n",
    "    print('Uppercase')\n",
    "else:\n",
    "    print('Neither')"
   ]
  },
  {
   "cell_type": "code",
   "execution_count": 7,
   "id": "714410e3-ca42-49e3-8e07-b03f26b33fdd",
   "metadata": {},
   "outputs": [
    {
     "name": "stdin",
     "output_type": "stream",
     "text": [
      "Enter coefficient a:  2\n",
      "Enter coefficient b:  -3\n",
      "Enter coefficient c:  2\n"
     ]
    },
    {
     "name": "stdout",
     "output_type": "stream",
     "text": [
      "Complex roots:\n",
      "Root 1: 0.75 + 0.6614378277661477 i\n",
      "Root 2: 0.75 - 0.6614378277661477 i\n"
     ]
    }
   ],
   "source": [
    "# Write a Python program to determine the roots of a quadratic equation using if-else.\n",
    "a = float(input(\"Enter coefficient a: \"))\n",
    "b = float(input(\"Enter coefficient b: \"))\n",
    "c = float(input(\"Enter coefficient c: \"))\n",
    "discriminant = b**2 - 4*a*c\n",
    "if discriminant > 0:\n",
    "    root1 = (-b + (discriminant ** 0.5)) / (2*a)\n",
    "    root2 = (-b - (discriminant ** 0.5)) / (2*a)\n",
    "    print(\"Two distinct real roots:\")\n",
    "    print(\"Root 1:\", root1)\n",
    "    print(\"Root 2:\", root2)\n",
    "elif discriminant == 0:\n",
    "    root = -b / (2*a)\n",
    "    print(\"One real root (repeated):\")\n",
    "    print(\"Root:\", root)\n",
    "else:\n",
    "    real_part = -b / (2*a)\n",
    "    imaginary_part = (abs(discriminant) ** 0.5) / (2*a)\n",
    "    print(\"Complex roots:\")\n",
    "    print(\"Root 1:\", real_part, \"+\", imaginary_part, \"i\")\n",
    "    print(\"Root 2:\", real_part, \"-\", imaginary_part, \"i\")\n"
   ]
  },
  {
   "cell_type": "code",
   "execution_count": 4,
   "id": "94afe81d-45ad-40b2-94c8-b521aa2eede1",
   "metadata": {},
   "outputs": [
    {
     "name": "stdin",
     "output_type": "stream",
     "text": [
      "Enter a year: 2000\n"
     ]
    },
    {
     "name": "stdout",
     "output_type": "stream",
     "text": [
      "Year is Century year\n"
     ]
    }
   ],
   "source": [
    "# Create a Python program that checks if a given year is a century year or not using if-else.\n",
    "year=int(input('Enter a year:'))\n",
    "if year%100==0:\n",
    "    print('Year is Century year')\n",
    "else:\n",
    "    print('Year is not a centurty year')"
   ]
  },
  {
   "cell_type": "code",
   "execution_count": 8,
   "id": "04169222-98a4-4f7a-85b9-b0d78adf727c",
   "metadata": {},
   "outputs": [
    {
     "name": "stdin",
     "output_type": "stream",
     "text": [
      "Enter a number:  16\n"
     ]
    },
    {
     "name": "stdout",
     "output_type": "stream",
     "text": [
      "16  is a perfect square\n"
     ]
    }
   ],
   "source": [
    "# Write a Python program to determine if a given number is a perfect square using if-else.\n",
    "num = int(input(\"Enter a number: \"))\n",
    "if num < 0:\n",
    "    print(\"Negative numbers are not perfect squares.\")\n",
    "else:\n",
    "    sqrt_num = int(num ** 0.5)\n",
    "    if sqrt_num * sqrt_num == num:\n",
    "        print(num,' is a perfect square')\n",
    "    else:\n",
    "        print(num,\" is not a perfect square.\")\n"
   ]
  },
  {
   "cell_type": "raw",
   "id": "405738b2-7276-47f2-b3e2-853dc514d426",
   "metadata": {},
   "source": [
    "# Explain the purpose of the \"continue\" and \"break\" statements within if-else loops.\n",
    "Ans::=The continue and break statements are control flow statements in Python that are used within loops (e.g., for loop, while loop) to modify the flow of execution. They serve different purposes and are used to control the iteration process within the loop.\n",
    "\n",
    "Continue Statement:\n",
    "The continue statement is used to skip the rest of the current iteration and move to the next iteration of the loop. When continue is encountered, the loop doesn't execute any code after the continue statement for the current iteration. Instead, it jumps back to the loop's beginning for the next iteration.\n",
    "\n",
    "Example:\n",
    "for i in range(5):\n",
    "    if i == 2:\n",
    "        continue\n",
    "    print(i)\n",
    "In this example, when i is 2, the continue statement is executed, skipping the print(i) statement for that iteration. The loop then proceeds to the next iteration.\n",
    "\n",
    "\n",
    "Break Statement:\n",
    "The break statement is used to exit the loop prematurely, stopping further iterations, even if the loop's condition is still true. It allows you to terminate the loop and continue with the next code outside the loop.\n",
    "\n",
    "Example:\n",
    "for i in range(5):\n",
    "    if i == 3:\n",
    "        break\n",
    "    print(i)\n",
    "In this example, when i is 3, the break statement is executed, terminating the loop. As a result, the loop exits early.\n",
    "\n",
    "In summary, continue allows you to skip the rest of the current iteration and move to the next iteration, while break allows you to exit the loop prematurely and continue with the next part of the program outside the loop. Both statements are powerful tools for controlling the flow of execution within loops based on specific conditions.\n"
   ]
  },
  {
   "cell_type": "code",
   "execution_count": 3,
   "id": "e5c48ac8-f4a6-4c51-8778-9b85a68167dd",
   "metadata": {},
   "outputs": [
    {
     "name": "stdin",
     "output_type": "stream",
     "text": [
      "Enter the person weight in kg 58\n",
      "Enter the person height in meter  1.17\n"
     ]
    },
    {
     "name": "stdout",
     "output_type": "stream",
     "text": [
      "bmi 49.572649572649574\n",
      "Normal\n"
     ]
    }
   ],
   "source": [
    "# Create a Python program that calculates the BMI (Body Mass Index) of a person based on their weight and height using if-else\n",
    "weight=float(input('Enter the person weight in kg'))\n",
    "height=float(input('Enter the person height in meter '))\n",
    "bmi=weight/height\n",
    "print('bmi',bmi)\n",
    "if weight<=18.5:\n",
    "    print('The person is underweight')\n",
    "elif weight>=18.5 or weight<=24.9:\n",
    "    print('Normal')\n",
    "elif weight>=25.0 or weight<=29.9:\n",
    "    print('OverWeight')\n",
    "else:\n",
    "    print('obese')"
   ]
  },
  {
   "cell_type": "code",
   "execution_count": 11,
   "id": "3b04f977-3e70-4abc-8c16-62d4fd253497",
   "metadata": {},
   "outputs": [
    {
     "name": "stdout",
     "output_type": "stream",
     "text": [
      "Even numbers in the list: [2, 4, 6, 8, 10]\n"
     ]
    }
   ],
   "source": [
    "# How can you use the \"filter()\" function with if-else statements to filter elements from a list?\n",
    "n = [1, 2, 3, 4, 5, 6, 7, 8, 9, 10]\n",
    "filtered_numbers = filter(lambda x: x % 2 == 0,n)\n",
    "filtered_numbers_list = list(filtered_numbers)\n",
    "if filtered_numbers_list:\n",
    "    print(\"Even numbers in the list:\", filtered_numbers_list)\n",
    "else:\n",
    "    print(\"No even numbers found in the list\")\n"
   ]
  },
  {
   "cell_type": "code",
   "execution_count": 14,
   "id": "092156a5-caed-4cc7-adfa-6cd2bdd87108",
   "metadata": {},
   "outputs": [
    {
     "name": "stdin",
     "output_type": "stream",
     "text": [
      "Enter a number:  5\n"
     ]
    },
    {
     "name": "stdout",
     "output_type": "stream",
     "text": [
      "5 is a prime number\n"
     ]
    }
   ],
   "source": [
    "# Write a Python program to determine if a given number is prime or not using if-else.\n",
    "num = int(input(\"Enter a number: \"))\n",
    "if num == 1:\n",
    "    print(num, \"is not a prime number\")\n",
    "elif num > 1:\n",
    "    for i in range(2,num):\n",
    "        if (num % i) == 0:\n",
    "            print(num,\"is not a prime number\")\n",
    "            break\n",
    "    else:\n",
    "        print(num,\"is a prime number\")\n",
    "else:\n",
    "    print(num,\"is not a prime number\")"
   ]
  },
  {
   "cell_type": "code",
   "execution_count": 6,
   "id": "ee0386d7-cb09-46be-9a27-6bdb4066c557",
   "metadata": {},
   "outputs": [],
   "source": [
    "# Map"
   ]
  },
  {
   "cell_type": "raw",
   "id": "39367654-0f7f-41e6-bd6d-c014d05f824b",
   "metadata": {},
   "source": [
    "# Explain the purpose of the `map()` function in Python and provide an example of how it can be used to apply a function to each element of an iterable.\n",
    "ANS::=\n",
    "The map() function in Python is used to apply a specified function to every item in an iterable (such as a list, tuple, or string) and return an iterator that yields the results of applying the function. It allows you to efficiently transform each element of the iterable using the provided function without having to write explicit loops.\n",
    "\n",
    "The syntax for map() is as follows:\n",
    "\n",
    "map(function, iterable)\n",
    "\n",
    "function: The function to apply to each element of the iterable.\n",
    "iterable: The iterable (e.g., list, tuple, string) whose elements will be passed to the \n",
    "function.\n",
    "\n",
    "\n",
    "Here's an example to illustrate how map() can be used to apply a function to each element of a list:\n",
    "\n",
    "l=[2,3,4,5,6,7,8,9,10]\n",
    "list(map(lambda a:a**2,l))"
   ]
  },
  {
   "cell_type": "code",
   "execution_count": 1,
   "id": "43e20cb3-d698-4d30-9dd0-b49ef830dc79",
   "metadata": {},
   "outputs": [
    {
     "data": {
      "text/plain": [
       "[4, 9, 16, 25, 36, 49, 64, 81, 100]"
      ]
     },
     "execution_count": 1,
     "metadata": {},
     "output_type": "execute_result"
    }
   ],
   "source": [
    "# Write a Python program that uses the `map()` function to square each element of a list of numbers.\n",
    "l=[2,3,4,5,6,7,8,9,10]\n",
    "list(map(lambda a:a**2,l))"
   ]
  },
  {
   "cell_type": "raw",
   "id": "25c99bc9-0446-4315-9c6a-8a2a0ea9711d",
   "metadata": {},
   "source": [
    "# How does the `map()` function differ from a list comprehension in Python, and when would you choose one over the other?\n",
    "ANS::=\n",
    "The map() function and list comprehensions in Python both allow you to transform elements in an iterable by applying a function or expression. However, they have differences in terms of usage, readability, and performance.\n",
    "\n",
    "Differences between map() and list comprehensions:\n",
    "\n",
    "Usage and Syntax:\n",
    "map(): Uses a function and an iterable as arguments. It applies the function to each element of the iterable.\n",
    "List comprehension: Uses a concise expression to generate a new list based on an existing iterable.\n",
    "\n",
    "Return Type:\n",
    "map(): Returns an iterator, so you need to convert it to a list or another iterable type (e.g., tuple) to see the results.\n",
    "List comprehension: Directly produces a new list.\n",
    "\n",
    "Readability and Clarity:\n",
    "map(): Involves using a separate function, which might make the code less readable, especially for complex transformations.\n",
    "List comprehension: Often considered more readable and Pythonic, especially for simple transformations.\n",
    "\n",
    "Flexibility:\n",
    "map(): More suitable for applying an existing function to each element in an iterable.\n",
    "List comprehension: Allows for more complex expressions and conditionals, making it versatile for a wide range of transformations.\n",
    "\n",
    "When to choose one over the other:\n",
    "\n",
    "Use map() when:\n",
    "You want to apply a specific function to each element in an iterable.\n",
    "The transformation is relatively simple and using a separate function is reasonable.\n",
    "\n",
    "Use list comprehension when:\n",
    "You want to apply a more complex expression or need to include conditionals.\n",
    "The transformation is simple and can be expressed clearly and concisely using a list comprehension."
   ]
  },
  {
   "cell_type": "code",
   "execution_count": 4,
   "id": "16461c17-2441-4041-9a21-897c58cd7afc",
   "metadata": {},
   "outputs": [
    {
     "data": {
      "text/plain": [
       "['KUNAL', 'APPA', 'YUKS', 'APPA']"
      ]
     },
     "execution_count": 4,
     "metadata": {},
     "output_type": "execute_result"
    }
   ],
   "source": [
    "# Create a Python program that uses the `map()` function to convert a list of names to uppercase.\n",
    "l=['kunal','appa','yuks','appa']\n",
    "list(map(lambda a:a.upper(),l))"
   ]
  },
  {
   "cell_type": "code",
   "execution_count": 2,
   "id": "d4516a4d-fd39-4e0a-9619-dd5546ca1161",
   "metadata": {},
   "outputs": [
    {
     "data": {
      "text/plain": [
       "[5, 4, 3, 4]"
      ]
     },
     "execution_count": 2,
     "metadata": {},
     "output_type": "execute_result"
    }
   ],
   "source": [
    "# Write a Python program that uses the `map()` function to calculate the length of each word in a list of strings.\n",
    "l=['kunal','yuks','mom','papa']\n",
    "list(map(lambda a:len(a),l))"
   ]
  },
  {
   "cell_type": "code",
   "execution_count": 12,
   "id": "f21e50b3-1a7c-41de-bef9-f9c285f4a0ea",
   "metadata": {},
   "outputs": [
    {
     "name": "stdout",
     "output_type": "stream",
     "text": [
      "[5, 13, 30]\n"
     ]
    }
   ],
   "source": [
    "# How can you use the `map()` function to apply a custom function to elements of multiple lists simultaneously in Python?\n",
    "def custom(a,b,c):\n",
    "    return a*b+c\n",
    "l1=[1,3,4]\n",
    "l2=[2,3,6]\n",
    "l3=[3,4,6]\n",
    "result =list( map(lambda x: custom(*x), zip(l1, l2, l3)))\n",
    "print(result) "
   ]
  },
  {
   "cell_type": "code",
   "execution_count": 5,
   "id": "d6396ee7-b2e8-4a1e-91a9-cc89a9d35a65",
   "metadata": {},
   "outputs": [
    {
     "name": "stdout",
     "output_type": "stream",
     "text": [
      "[95.72, 110.48, 89.6, 99.5]\n"
     ]
    }
   ],
   "source": [
    "# Create a Python program that uses `map()` to convert a list of temperatures from Celsius to Fahrenheit.\n",
    "def tempreture(c):\n",
    "    return (c * 9/5)+32\n",
    "    \n",
    "c=[35.4,43.6,32,37.5]\n",
    "n=list(map(tempreture,c))\n",
    "print(n)"
   ]
  },
  {
   "cell_type": "code",
   "execution_count": 6,
   "id": "b9bd0a7a-fcdb-4211-9e1d-b491ce7df91f",
   "metadata": {},
   "outputs": [
    {
     "name": "stdout",
     "output_type": "stream",
     "text": [
      "[3, 6, 8, 8, 8, 5]\n"
     ]
    }
   ],
   "source": [
    "# Write a Python program that uses the `map()` function to round each element of a list of floating-point numbers to the nearest integer.\n",
    "def round_number(t):\n",
    "    return round(t)\n",
    "\n",
    "c=[3.4,5.6,7.5,8.3,7.8,5.2]\n",
    "n=list(map(round_number,c))\n",
    "print(n)"
   ]
  },
  {
   "cell_type": "code",
   "execution_count": 14,
   "id": "aca622a2-188a-4ce9-b02d-0d44c9f79e1d",
   "metadata": {},
   "outputs": [],
   "source": [
    "# Reduce :-\n",
    "from functools import reduce "
   ]
  },
  {
   "cell_type": "raw",
   "id": "630c156a-d7ae-4bfb-8b6f-286a4904996f",
   "metadata": {},
   "source": [
    "# What is the `reduce()` function in Python, and what module should you import to use it? Provide an example of its basic usage.\n",
    "ANS:\n",
    "The reduce() function in Python is used to reduce a sequence of elements to a single value by successively applying a function to pairs of elements. It's part of the functools module, so you need to import this module to use reduce().\n",
    "\n",
    "Here's the syntax for reduce():\n",
    "\n",
    "functools.reduce(function, iterable[, initial])\n",
    "\n",
    "function: The function to apply to the accumulated result and the next element in the iterable.\n",
    "iterable: The iterable (e.g., list, tuple) of elements to be reduced.\n",
    "initial (optional): An optional initial value. If provided, it is used as the initial accumulated value, and the reduction starts from the next element.\n",
    "\n",
    "Here's a basic example to illustrate how reduce() can be used to find the sum of elements in a list:\n",
    "import functools import reduce \n",
    "\n",
    "l=[2,3,4,5,7,8]\n",
    "reduce(lambda a,b:a*b,l)"
   ]
  },
  {
   "cell_type": "code",
   "execution_count": 19,
   "id": "ec3b637d-7f24-4520-b0bc-c56f339a6ed1",
   "metadata": {},
   "outputs": [
    {
     "data": {
      "text/plain": [
       "6720"
      ]
     },
     "execution_count": 19,
     "metadata": {},
     "output_type": "execute_result"
    }
   ],
   "source": [
    "# Write a Python program that uses the `reduce()` function to find the product of all elements in a list.\n",
    "l=[2,3,4,5,7,8]\n",
    "reduce(lambda a,b:a*b,l)"
   ]
  },
  {
   "cell_type": "code",
   "execution_count": 28,
   "id": "c5c52401-8358-4e66-9b49-41a76e5fd509",
   "metadata": {},
   "outputs": [
    {
     "data": {
      "text/plain": [
       "5444"
      ]
     },
     "execution_count": 28,
     "metadata": {},
     "output_type": "execute_result"
    }
   ],
   "source": [
    "# Create a Python program that uses `reduce()` to find the maximum element in a list of numbers.\n",
    "l=[2,3,444,5444,7,8]\n",
    "reduce(lambda a,b: a if a>b else b, l)"
   ]
  },
  {
   "cell_type": "code",
   "execution_count": 31,
   "id": "90a5f82d-ba79-493a-b171-4244681f69f9",
   "metadata": {},
   "outputs": [
    {
     "data": {
      "text/plain": [
       "'yuktikunalappa'"
      ]
     },
     "execution_count": 31,
     "metadata": {},
     "output_type": "execute_result"
    }
   ],
   "source": [
    "# How can you use the `reduce()` function to concatenate a list of strings into a single stri\n",
    "l=['yukti','kunal','appa']\n",
    "reduce(lambda a,b: a+b ,l)"
   ]
  },
  {
   "cell_type": "code",
   "execution_count": 44,
   "id": "aa27500a-a4fe-4c2b-8eb4-fbc6ae9dc783",
   "metadata": {},
   "outputs": [
    {
     "data": {
      "text/plain": [
       "120"
      ]
     },
     "execution_count": 44,
     "metadata": {},
     "output_type": "execute_result"
    }
   ],
   "source": [
    "# Write a Python program that calculates the factorial of a number using the `reduce()` function.\n",
    "n=5\n",
    "reduce(lambda a,b: a*b ,range(1,n+1),1) "
   ]
  },
  {
   "cell_type": "code",
   "execution_count": 16,
   "id": "7cc2251d-0ccd-47dd-b255-7b03922d35c8",
   "metadata": {},
   "outputs": [
    {
     "name": "stdout",
     "output_type": "stream",
     "text": [
      "GCD of the numbers: 12\n"
     ]
    }
   ],
   "source": [
    "# Create a Python program that uses `reduce()` to find the GCD (Greatest Common Divisor) of a list of numbers.\n",
    "numbers = [24, 36, 48, 60]\n",
    "gcd = lambda a, b: a if not b else gcd(b, a % b)\n",
    "print(\"GCD of the numbers:\", result_gcd)\n"
   ]
  },
  {
   "cell_type": "code",
   "execution_count": 34,
   "id": "c6642d45-3050-40ee-9ab0-006817639905",
   "metadata": {},
   "outputs": [
    {
     "data": {
      "text/plain": [
       "32"
      ]
     },
     "execution_count": 34,
     "metadata": {},
     "output_type": "execute_result"
    }
   ],
   "source": [
    "# Write a Python program that uses the `reduce()` function to find the sum of the digits of a given number\n",
    "l=[2,5,8,9,8]\n",
    "reduce(lambda a,b: a+b ,l)"
   ]
  },
  {
   "cell_type": "code",
   "execution_count": 58,
   "id": "bd08bfe1-2175-42f4-9a20-2a6f9ec7f8db",
   "metadata": {},
   "outputs": [],
   "source": [
    "# Filter :-\n"
   ]
  },
  {
   "cell_type": "raw",
   "id": "b12ba1de-5c73-4ab9-8fb0-ebb70749cbe2",
   "metadata": {},
   "source": [
    "# Explain the purpose of the `filter()` function in Python and provide an example of how it can be used to filter elements from an iterable.\n",
    "ANS::\n",
    "The filter() function in Python is used to construct an iterator from elements of an iterable for which a function returns true. It allows you to selectively include or exclude elements from the original iterable based on a specified filtering condition.\n",
    "\n",
    "Here's the syntax for filter():\n",
    "\n",
    "filter(function, iterable)\n",
    "\n",
    "function: A function that tests whether each element of an iterable should be included in the result. If None, it simply returns the elements of the iterable that are true.\n",
    "iterable: The iterable (e.g., list, tuple) whose elements will be tested against the filtering function.\n",
    "\n",
    "\n",
    "l=[2,4,6,5,3,67,7,8]\n",
    "list(filter(lambda a: a%2==0,l))\n"
   ]
  },
  {
   "cell_type": "code",
   "execution_count": 61,
   "id": "5eb4fb30-0510-42bf-ac1c-cb6d7d782868",
   "metadata": {},
   "outputs": [
    {
     "data": {
      "text/plain": [
       "[2, 4, 6, 8]"
      ]
     },
     "execution_count": 61,
     "metadata": {},
     "output_type": "execute_result"
    }
   ],
   "source": [
    "# Write a Python program that uses the `filter()` function to select even numbers from a list of integers.\n",
    "l=[2,4,6,5,3,67,7,8]\n",
    "list(filter(lambda a: a%2==0,l))"
   ]
  },
  {
   "cell_type": "code",
   "execution_count": 62,
   "id": "f64004fa-7d91-4e94-8f56-06d7ce422cb1",
   "metadata": {},
   "outputs": [
    {
     "data": {
      "text/plain": [
       "['yuks', 'yuk', 'yukti']"
      ]
     },
     "execution_count": 62,
     "metadata": {},
     "output_type": "execute_result"
    }
   ],
   "source": [
    "# Create a Python program that uses the `filter()` function to select names that start with a specific letter from a list of strings.\n",
    "l=['yuks','yuk','kunal','pop','yukti']\n",
    "list(filter(lambda a: a[0]=='y',l))"
   ]
  },
  {
   "cell_type": "code",
   "execution_count": 18,
   "id": "8e85574e-bf76-4b77-b83f-a6a417dc4183",
   "metadata": {},
   "outputs": [
    {
     "name": "stdout",
     "output_type": "stream",
     "text": [
      "Prime numbers in the list: [2, 3, 5, 7, 11, 13, 17, 19]\n"
     ]
    }
   ],
   "source": [
    "# Write a Python program that uses the `filter()` function to select prime numbers from a list of integers.\n",
    "numbers = [2, 3, 5, 7, 10, 11, 13, 15, 17, 19, 20]\n",
    "prime_numbers = list(filter(lambda x: all(x % i != 0 for i in range(2, int(x**0.5) + 1)) and x > 1, numbers))\n",
    "print(\"Prime numbers in the list:\", prime_numbers)"
   ]
  },
  {
   "cell_type": "code",
   "execution_count": 81,
   "id": "16d5543e-2cc4-4042-b850-ae09e602e2dd",
   "metadata": {},
   "outputs": [
    {
     "data": {
      "text/plain": [
       "['kunal', 'yuks', 'kunal', 5]"
      ]
     },
     "execution_count": 81,
     "metadata": {},
     "output_type": "execute_result"
    }
   ],
   "source": [
    "# How can you use the `filter()` function to remove None values from a list in Python?\n",
    "l=['kunal',None,'yuks',None,None,'kunal',None,5]\n",
    "list(filter(lambda a: a is not None ,l))"
   ]
  },
  {
   "cell_type": "code",
   "execution_count": 84,
   "id": "f0bc6f8d-06c8-444c-b1bf-c989d4054a63",
   "metadata": {},
   "outputs": [
    {
     "data": {
      "text/plain": [
       "['yuktikunal', 'gjjgjgj']"
      ]
     },
     "execution_count": 84,
     "metadata": {},
     "output_type": "execute_result"
    }
   ],
   "source": [
    "# Create a Python program that uses `filter()` to select words longer than a certain length from a list of strings.\n",
    "certain_length=6\n",
    "l=['kunal','yukti','yuktikunal','gjjgjgj']\n",
    "list(filter(lambda a: len(a)>certain_length,l))"
   ]
  },
  {
   "cell_type": "code",
   "execution_count": 86,
   "id": "1fb9b37f-e127-477c-bcf2-0f5d53e1b27c",
   "metadata": {},
   "outputs": [
    {
     "data": {
      "text/plain": [
       "[33, 55, 55, 66, 77, 534, 77]"
      ]
     },
     "execution_count": 86,
     "metadata": {},
     "output_type": "execute_result"
    }
   ],
   "source": [
    "# Write a Python program that uses the `filter()` function to select elements greater than a specified threshold from a list of values.\n",
    "certain_value=15\n",
    "l=[2,4,5,7,8,3,33,5,55,55,66,77,534,77]\n",
    "list(filter(lambda a : a>certain_value,l))"
   ]
  },
  {
   "cell_type": "code",
   "execution_count": 87,
   "id": "189a1f71-ff2c-4f80-8544-5d16c4bcdd5a",
   "metadata": {},
   "outputs": [],
   "source": [
    "# Recursion:-\n"
   ]
  },
  {
   "cell_type": "raw",
   "id": "7446ca7a-6e7a-4a80-9f5a-68343877503a",
   "metadata": {},
   "source": [
    "# Explain the concept of recursion in Python. How does it differ from iteration?\n",
    "ANS::\n",
    "Recursion and iteration are two fundamental programming concepts used to solve problems by breaking them down into smaller, more manageable pieces. Both recursion and iteration involve repetitive processes, but they achieve this in different ways.\n",
    "\n",
    "Recursion:\n",
    "Recursion is a programming technique where a function calls itself in order to solve a larger problem by breaking it down into smaller, similar subproblems. A recursive function consists of two main parts: the base case (or terminating condition) and the recursive case.\n",
    "\n",
    "Base Case: The condition that defines when the recursive calls should stop. It represents the simplest form of the problem and helps break the recursion loop.\n",
    "\n",
    "Recursive Case: The part of the function where it calls itself with modified arguments to solve a smaller subproblem.\n",
    "\n",
    "Recursion follows the principle of \"divide and conquer\" by breaking down a complex problem into simpler, manageable subproblems, solving them, and combining their solutions to solve the original problem.\n",
    "\n",
    "Example::\n",
    "def factorial(n):\n",
    "    if n == 0:\n",
    "        return 1  # Base case: factorial of 0 is 1\n",
    "    else:\n",
    "        return n * factorial(n - 1)  # Recursive case\n",
    "\n",
    "print(factorial(5)) \n",
    "\n",
    "Iteration:\n",
    "Iteration is a programming concept that involves repeatedly executing a set of statements for a specified number of times or until a certain condition is met. It typically uses loops (e.g., for, while) to achieve this repetition.\n",
    "\n",
    "In iteration, the program executes a block of code repeatedly, incrementing or updating variables or conditions, until a desired state or result is achieved. It involves no function calling itself; instead, it uses loops to control the flow of execution.\n",
    "\n",
    "\n",
    "Differences between Recursion and Iteration:\n",
    "\n",
    "Control Flow:\n",
    "Recursion: Uses function calls to achieve repetition and solve subproblems.\n",
    "Iteration: Uses loops to achieve repetition.\n",
    "\n",
    "Memory Usage:\n",
    "Recursion: Typically uses more memory due to function call stack.\n",
    "Iteration: Generally uses less memory as it doesn't involve function call stack.\n",
    "\n",
    "Readability and Ease of Use:\n",
    "Recursion: Can be elegant and intuitive for certain problems.\n",
    "Iteration: Often more familiar and straightforward for many developers.\n",
    "\n",
    "Performance:\n",
    "Recursion: May have higher overhead due to function calls.\n",
    "Iteration: Often more efficient in terms of performance."
   ]
  },
  {
   "cell_type": "code",
   "execution_count": 90,
   "id": "587d738c-2b29-4f45-8e26-dde8275287fc",
   "metadata": {},
   "outputs": [
    {
     "data": {
      "text/plain": [
       "120"
      ]
     },
     "execution_count": 90,
     "metadata": {},
     "output_type": "execute_result"
    }
   ],
   "source": [
    "# Write a Python program to calculate the factorial of a number using recursion.\n",
    "def recursion_fact(n):\n",
    "    if n==0:\n",
    "        return 1\n",
    "    else :\n",
    "        return n*recursion_fact(n-1)\n",
    "\n",
    "recursion_fact(5)"
   ]
  },
  {
   "cell_type": "code",
   "execution_count": 92,
   "id": "77335751-152e-4d80-a5e1-929d5a6f8c0a",
   "metadata": {},
   "outputs": [
    {
     "data": {
      "text/plain": [
       "55"
      ]
     },
     "execution_count": 92,
     "metadata": {},
     "output_type": "execute_result"
    }
   ],
   "source": [
    "# Create a recursive Python function to find the nth Fibonacci number.\n",
    "def fibno_num(n):\n",
    "    if n<=1:\n",
    "        return n\n",
    "    else:\n",
    "        return fibno_num(n-2) + fibno_num(n-1)\n",
    "    \n",
    "fibno_num(10)"
   ]
  },
  {
   "cell_type": "code",
   "execution_count": 103,
   "id": "1fbf58c1-17f0-433d-97ec-b2b49f633e1c",
   "metadata": {},
   "outputs": [
    {
     "data": {
      "text/plain": [
       "27"
      ]
     },
     "execution_count": 103,
     "metadata": {},
     "output_type": "execute_result"
    }
   ],
   "source": [
    "# Write a recursive Python function to calculate the sum of all elements in a list.\n",
    "def sum_element(n):\n",
    "    if not n:\n",
    "        return 0\n",
    "    else:\n",
    "        return n[0]+sum_element(n[1:])\n",
    "l=[2,3,4,5,6,7]\n",
    "sum_element(l)"
   ]
  },
  {
   "cell_type": "raw",
   "id": "51d7cc88-cf70-44de-a7a8-90c92795b94d",
   "metadata": {},
   "source": [
    "# How can you prevent a recursive function from running indefinitely, causing a stack overflow error?\n",
    "ANS:\n",
    "Preventing a recursive function from running indefinitely and causing a stack overflow error involves implementing mechanisms to ensure that the recursion terminates under certain conditions. This typically involves defining a base case that allows the recursion to stop and ensuring that the input to the recursive function moves towards the base case in each recursive call.\n",
    "\n",
    "Here are some approaches to prevent infinite recursion and avoid a stack overflow error:\n",
    "\n",
    "Base Case:\n",
    "Define a base case within the recursive function. The base case should represent the simplest input or condition for which the function can return a result without making further recursive calls.\n",
    "\n",
    "Example (factorial calculation):\n",
    "\n",
    "def factorial(n):\n",
    "    if n == 0:\n",
    "        return 1  # Base case: factorial of 0 is 1\n",
    "    else:\n",
    "        return n * factorial(n - 1)  # Recursive case\n",
    "print(factorial(5))  \n",
    "\n",
    "Ensure Progress Toward the Base Case:\n",
    "Ensure that the input to the recursive function moves towards the base case in each recursive call. This ensures that the recursion will eventually reach the base case and terminate.\n",
    "\n",
    "Example (countdown):\n",
    "def countdown(n):\n",
    "    if n <= 0:\n",
    "        print(\"Blastoff!\")\n",
    "    else:\n",
    "        print(n)\n",
    "        countdown(n - 1) \n",
    "countdown(5)\n",
    "\n",
    "\n",
    "Limit Recursion Depth:\n",
    "Set a maximum recursion depth to prevent excessive recursion. This involves adding a parameter to the recursive function to track the depth of recursion and terminating the recursion if the depth exceeds a certain limit.\n",
    "\n",
    "Example:\n",
    "\n",
    "MAX_RECURSION_DEPTH = 1000\n",
    "\n",
    "def recursive_function(data, depth=0):\n",
    "    if depth > MAX_RECURSION_DEPTH:\n",
    "        raise RecursionError(\"Exceeded maximum recursion depth\")\n",
    "recursive_function(initial_data)\n",
    "\n",
    "\n",
    "By implementing these strategies, you can ensure that recursive functions terminate within a reasonable number of iterations and avoid stack overflow errors. It's essential to carefully design and test recursive functions to ensure they behave as expected and terminate appropriately."
   ]
  },
  {
   "cell_type": "code",
   "execution_count": 66,
   "id": "033f933a-c456-4ef8-8942-7e0e5bd596d2",
   "metadata": {},
   "outputs": [
    {
     "name": "stdout",
     "output_type": "stream",
     "text": [
      "GCD of 48 and 18 is: 6\n"
     ]
    }
   ],
   "source": [
    "# Create a recursive Python function to find the greatest common divisor (GCD) of two numbers using the Euclidean algorithm.\n",
    "def gcd(a, b):\n",
    "    if b == 0:\n",
    "        return a\n",
    "    return gcd(b, a % b)\n",
    "num1 = 48\n",
    "num2 = 18\n",
    "\n",
    "result_gcd = gcd(num1, num2)\n",
    "print(\"GCD of\", num1, \"and\", num2, \"is:\", result_gcd) \n"
   ]
  },
  {
   "cell_type": "code",
   "execution_count": 110,
   "id": "4f3a83c8-2fa4-4dec-a49d-ca9e1602afea",
   "metadata": {},
   "outputs": [
    {
     "data": {
      "text/plain": [
       "'lanuk'"
      ]
     },
     "execution_count": 110,
     "metadata": {},
     "output_type": "execute_result"
    }
   ],
   "source": [
    "# Write a recursive Python function to reverse a string.\n",
    "def recursive_python(n):\n",
    "    if len(l)<=0:\n",
    "        return 0\n",
    "    else:\n",
    "        return n[::-1]\n",
    "recursive_python('kunal')"
   ]
  },
  {
   "cell_type": "code",
   "execution_count": 113,
   "id": "f1723b20-b1ea-47e6-8f07-3d6019ccaa8d",
   "metadata": {},
   "outputs": [
    {
     "name": "stdout",
     "output_type": "stream",
     "text": [
      "8\n"
     ]
    }
   ],
   "source": [
    "# Create a recursive Python function to calculate the power of a number (x^n).\n",
    "def power(x,n):\n",
    "    if n==0:\n",
    "        return 1\n",
    "    elif n%2==0:\n",
    "        return power(x, n // 2) ** 2\n",
    "    else:\n",
    "        return x * power(x, (n - 1) // 2) ** 2\n",
    "base = 2\n",
    "exponent = 3\n",
    "result = power(base, exponent)\n",
    "print(result)"
   ]
  },
  {
   "cell_type": "code",
   "execution_count": 21,
   "id": "54b0d22a-3bbc-4468-a30f-00ae96353ede",
   "metadata": {},
   "outputs": [
    {
     "name": "stdout",
     "output_type": "stream",
     "text": [
      "abc\n",
      "acb\n",
      "bac\n",
      "bca\n",
      "cab\n",
      "cba\n"
     ]
    }
   ],
   "source": [
    "# Write a recursive Python function to find all permutations of a given string.\n",
    "def permute(s, prefix=''):\n",
    "    if len(s) == 0:\n",
    "        print(prefix)\n",
    "    else:\n",
    "        for i in range(len(s)):\n",
    "            permute(s[:i] + s[i+1:], prefix + s[i])\n",
    "input_string = \"abc\"\n",
    "permute(input_string)\n"
   ]
  },
  {
   "cell_type": "code",
   "execution_count": 24,
   "id": "30ee0011-69f3-41ea-8a02-a61be3f13b28",
   "metadata": {},
   "outputs": [
    {
     "name": "stdout",
     "output_type": "stream",
     "text": [
      "string is a palindrome.\n"
     ]
    }
   ],
   "source": [
    "# Write a recursive Python function to check if a string is a palindrome.\n",
    "def is_palindrome(s):\n",
    "    if len(s) < 2:\n",
    "        return True\n",
    "    if s[0] != s[-1]:\n",
    "        return False\n",
    "    return is_palindrome(s[1:-1])\n",
    "input_str = \"madam\"\n",
    "result = is_palindrome(input_str.lower())  \n",
    "if result:\n",
    "    print(\"string is a palindrome.\")\n",
    "else:\n",
    "    print(\"string is not a palindrome.\")\n"
   ]
  },
  {
   "cell_type": "code",
   "execution_count": 28,
   "id": "0ebfcc40-0f2f-43dd-9c56-d97d81710b6c",
   "metadata": {},
   "outputs": [
    {
     "data": {
      "text/plain": [
       "[[1, 2, 3], [1, 3, 2], [2, 1, 3], [2, 3, 1], [3, 1, 2], [3, 2, 1]]"
      ]
     },
     "execution_count": 28,
     "metadata": {},
     "output_type": "execute_result"
    }
   ],
   "source": [
    "# Create a recursive Python function to generate all possible combinations of a list of elements.\n",
    "def all_combinations(elements):\n",
    "    if len(elements) == 0:\n",
    "        return [[]]\n",
    "    combinations = []\n",
    "    for i in range(len(elements)):\n",
    "        rest_combinations = all_combinations(elements[:i] + elements[i + 1:])\n",
    "        for combination in rest_combinations:\n",
    "            combinations.append([elements[i]] + combination)\n",
    "    return combinations\n",
    "\n",
    "elements = [1, 2, 3]\n",
    "combinations = all_combinations(elements)\n",
    "combinations"
   ]
  },
  {
   "cell_type": "code",
   "execution_count": null,
   "id": "f8a29ee4-8494-4833-a50e-727e02ccf6b3",
   "metadata": {},
   "outputs": [],
   "source": [
    "# Basics of Functions:"
   ]
  },
  {
   "cell_type": "raw",
   "id": "d07c05de-90e3-4154-8344-f8c13b21c6f9",
   "metadata": {},
   "source": [
    "# What is a function in Python, and why is it used?\n",
    "Ans:\n",
    "    In Python, a function is a self-contained block of code that encapsulates a specific set of instructions or tasks. Functions are designed to perform a particular operation or a series of related operations, often accepting input values (parameters) and producing an output value (return value). Functions are a fundamental building block in programming, enabling modularity, code reuse, and easier maintenance.\n",
    "    \n",
    "In Python, a function is a block of organized, reusable code that performs a specific task or a set of related tasks. Functions are a fundamental concept in programming and play a crucial role in making code modular, efficient, and easier to manage.\n",
    "\n",
    "Here are the key aspects of functions in Python:\n",
    "\n",
    "Modularity and Reusability:\n",
    "Functions allow you to break down a program into smaller, manageable units of code. Each function performs a specific task, making the code more organized, easier to understand, and more reusable. Functions can be called from various parts of the program, promoting code reuse and reducing redundancy.\n",
    "\n",
    "Abstraction:\n",
    "Functions provide a level of abstraction, allowing you to use them without needing to understand the inner workings or implementation details. You can use a function by knowing its purpose and how to provide input, and you receive the expected output without needing to know the implementation specifics.\n",
    "\n",
    "Parameter Passing and Return Values:\n",
    "Functions can accept parameters (input values) that influence their behavior and calculations. They can also return values (output) based on the provided parameters and the logic within the function. This allows for data exchange between the calling code and the function.\n",
    "\n",
    "Encapsulation and Scope:\n",
    "Functions create a local scope, meaning variables and parameters defined within a function are local to that function and do not interfere with variables in other parts of the program. This encapsulation helps in preventing unintended interactions between different parts of the program.\n",
    "\n",
    "Readability and Maintainability:\n",
    "Functions improve the readability of code by organizing logic into named blocks with descriptive names, making the code more self-explanatory. This improves maintainability as changes or updates can be made to a specific function without affecting the rest of the codebase."
   ]
  },
  {
   "cell_type": "code",
   "execution_count": 63,
   "id": "72da303c-5f34-4065-a3e1-71134d8c6218",
   "metadata": {},
   "outputs": [
    {
     "name": "stdout",
     "output_type": "stream",
     "text": [
      "5\n"
     ]
    }
   ],
   "source": [
    "# How do you define a function in Python? Provide an example.\n",
    "# ANS:\n",
    "    # To define a function in Python, you use the def keyword followed by the function name, a pair of parentheses containing any parameters, and a colon. The function body, where the actions and logic of the function are defined, comes after the colon. Finally, if the function returns a value, you use the return statement.\n",
    "def kunal(a,b):\n",
    "    c=a+b\n",
    "    print(c)\n",
    "kunal(2,3)"
   ]
  },
  {
   "cell_type": "raw",
   "id": "1018b432-1cba-4c73-ad93-9b6470bde7a7",
   "metadata": {},
   "source": [
    "# Explain the difference between a function definition and a function call.\n",
    "Ans:\n",
    "Function Definition:\n",
    "Definition: A function definition is the process of creating a function and specifying its behavior. It involves defining the function's name, parameters, and the logic or actions the function will perform when called.\n",
    "Syntax: To define a function, you use the def keyword followed by the function name, a parameter list (enclosed in parentheses), a colon (:), and the code block (body) that constitutes the function's logic.\n",
    "\n",
    "    \n",
    "Function Call:\n",
    "\n",
    "Invocation: A function call, also known as a function invocation, is the act of executing or using a defined function to perform its specified actions or computations. When you call a function, you pass values (arguments) to the function that correspond to its parameters, and the function executes its defined logic using these provided values.\n",
    "Syntax: To call a function, you use the function name followed by a list of arguments (values) enclosed in parentheses.\n",
    "\n",
    "\n",
    "Purpose:\n",
    "\n",
    "Function Definition: Establishes the structure, parameters, and behavior of the function.\n",
    "Function Call: Executes the defined behavior of the function using specific arguments.\n",
    "Syntax:\n",
    "\n",
    "Function Definition: Uses the def keyword, function name, parameters, and a colon (:) to declare the function and its logic.\n",
    "Function Call: Uses the function name and parentheses containing the arguments to execute the function.\n",
    "\n",
    "Action:\n",
    "Function Definition: Specifies what the function will do when called, but doesn't execute the function's code.\n",
    "Function Call: Executes the function's code and performs the actions specified within the function definition.\n"
   ]
  },
  {
   "cell_type": "code",
   "execution_count": 11,
   "id": "d1132193-fdfe-4855-bd57-1eed0653bc33",
   "metadata": {},
   "outputs": [
    {
     "name": "stdout",
     "output_type": "stream",
     "text": [
      "4\n"
     ]
    }
   ],
   "source": [
    "# Write a Python program that defines a function to calculate the sum of two numbers and then calls the function.\n",
    "def sum_of_num(a,b):\n",
    "    c=a+b\n",
    "    print(c)\n",
    "sum_of_num(2,2)"
   ]
  },
  {
   "cell_type": "raw",
   "id": "f22694d2-0733-491b-a01d-ec4736afe43a",
   "metadata": {},
   "source": [
    "# # What is a function signature, and what information does it typically include?\n",
    "ANS::=\n",
    "A function signature, sometimes referred to as a function header, represents the declaration of a function and provides essential information about the function's characteristics without detailing its implementation or body. It serves as a summary or blueprint of the function, outlining its name, parameters, and return type.\n",
    "\n",
    "Typically, a function signature includes the following information:\n",
    "\n",
    "Function Name:\n",
    "The identifier that represents the function and is used to call or reference the function.\n",
    "\n",
    "Parameters (if any):\n",
    "The variables or values that the function accepts as input when it is called. Parameters are enclosed in parentheses and separated by commas. Each parameter includes its type (if specified) and a name.\n",
    "\n",
    "Return Type:\n",
    "The data type of the value that the function returns after completing its execution. If a function doesn't return a value, the return type is often specified as void (in languages like C, C++) or implied to be None (in Python).\n",
    "\n",
    "Access Modifiers or Visibility (optional):\n",
    "In some programming languages, especially object-oriented ones, you may include information about the function's visibility or access control, such as public, private, or protected."
   ]
  },
  {
   "cell_type": "code",
   "execution_count": 12,
   "id": "b2436c77-c4df-4e6b-9a9a-7b2ce2686351",
   "metadata": {},
   "outputs": [
    {
     "name": "stdout",
     "output_type": "stream",
     "text": [
      "10\n"
     ]
    }
   ],
   "source": [
    "# Create a Python function that takes two arguments and returns their product.\n",
    "def product_of_num(a,b):\n",
    "    c=a*b\n",
    "    print(c)\n",
    "product_of_num(2,5)"
   ]
  },
  {
   "cell_type": "code",
   "execution_count": null,
   "id": "a9d34cbe-afb2-4a5d-bb2c-61e650ce504d",
   "metadata": {},
   "outputs": [],
   "source": [
    "# Function Parameters and Arguments:"
   ]
  },
  {
   "cell_type": "raw",
   "id": "5cf06353-0ca3-49eb-b1b6-78c6fab5c17f",
   "metadata": {},
   "source": [
    "# # Explain the concepts of formal parameters and actual arguments in Python functions.\n",
    "ANS:\n",
    "In Python functions, formal parameters and actual arguments are terms used to describe the input variables passed to a function and how they are handled within the function.\n",
    "\n",
    "Formal Parameters:\n",
    "Definition: Formal parameters are the named variables specified in the function definition to receive and store values passed during the function call. These parameters act as placeholders within the function, defining what kind of input the function expects.\n",
    "Usage: Formal parameters are defined inside the parentheses in the function header.\n",
    "\n",
    "Actual Arguments (Actual Parameters):\n",
    "\n",
    "Definition: Actual arguments, often referred to as arguments or actual parameters, are the values or expressions supplied to the function during a function call. These values are assigned to the corresponding formal parameters in the function definition.\n",
    "Usage: Actual arguments are passed inside the parentheses during the function call."
   ]
  },
  {
   "cell_type": "code",
   "execution_count": 16,
   "id": "c388e1f6-8d26-4b7c-8934-7abe4c192155",
   "metadata": {},
   "outputs": [
    {
     "data": {
      "text/plain": [
       "10"
      ]
     },
     "execution_count": 16,
     "metadata": {},
     "output_type": "execute_result"
    }
   ],
   "source": [
    "# Write a Python program that defines a function with default argument values.\n",
    "def add(a=5,b=5):\n",
    "    sum=a+b\n",
    "    return sum\n",
    "add()"
   ]
  },
  {
   "cell_type": "raw",
   "id": "6e46f1b4-1cbf-488e-a3f8-329643ff32d5",
   "metadata": {},
   "source": [
    "# How do you use keyword arguments in Python function calls? Provide an example.\n",
    "ANS::\n",
    "    Keyword arguments in Python allow you to specify arguments by their parameter names when calling a function. This allows for a more explicit and readable way to provide values to a function, especially when the function has multiple parameters.\n",
    "\n",
    "Here's how you can use keyword arguments in Python function calls:\n",
    "\n",
    "Using the Parameter Name:\n",
    "When calling the function, provide the argument value along with the parameter name in the format parameter_name=value.\n",
    "def greet(name, greeting):\n",
    "    print(f\"{greeting}, {name}!\")\n",
    "\n",
    "Using keyword arguments:\n",
    "greet(name=\"Alice\", greeting=\"Hello\")\n",
    "\n",
    "Mixing Positional and Keyword Arguments\n",
    "You can use a mix of positional and keyword arguments. However, all positional arguments must come before keyword arguments.\n",
    "def greet(name, greeting):\n",
    "    print(f\"{greeting}, {name}!\")\n",
    "\n",
    " Mixing positional and keyword arguments\n",
    "greet(\"Alice\", greeting=\"Hello\")\n",
    "\n",
    "Example with Keyword Arguments:\n",
    "\n",
    "def describe_person(name, age, city):\n",
    "    print(f\"{name} is {age} years old and lives in {city}.\")\n",
    "\n",
    "# Using keyword arguments\n",
    "describe_person(name=\"Alice\", age=30, city=\"New York\")\n",
    "describe_person(city=\"London\", nam\n",
    "    \n",
    "# EXample:\n",
    "def greet(name, message):\n",
    "    print(f\"Hello, {name}! {message}\")\n",
    "greet(name=\"kunal\", message=\"How are you?\")\n",
    "greet(message=\"Nice to see you!\", name=\"Bob\")\n"
   ]
  },
  {
   "cell_type": "code",
   "execution_count": 19,
   "id": "3283a3ff-12b3-4514-baab-0bf33af267af",
   "metadata": {},
   "outputs": [
    {
     "name": "stdout",
     "output_type": "stream",
     "text": [
      "15\n"
     ]
    }
   ],
   "source": [
    "# Create a Python function that accepts a variable number of arguments and calculates their sum.\n",
    "def calculate_sum(*args):\n",
    "    total_sum = 0\n",
    "    for num in args:\n",
    "        total_sum += num\n",
    "    return total_sum\n",
    "result = calculate_sum(1, 2, 3, 4, 5)\n",
    "print(result)\n"
   ]
  },
  {
   "cell_type": "raw",
   "id": "d8d6aff3-41d8-4c01-a1bb-1c7bdd7cbf76",
   "metadata": {},
   "source": [
    "# What is the purpose of the `*args` and `**kwargs` syntax in function parameter lists?\n",
    "ANS:\n",
    "The *args and **kwargs syntax in Python function parameter lists provides a way to handle variable numbers of arguments when defining functions. These notations allow for flexibility when dealing with arguments, both positional and keyword, within a function.\n",
    "\n",
    "Here's a more detailed explanation of each:\n",
    "\n",
    "*args (Arbitrary Positional Arguments):\n",
    "The *args syntax allows a function to accept an arbitrary number of positional arguments.\n",
    "The *args parameter collects these positional arguments into a tuple, making them accessible within the function by index.\n",
    "This is useful when you want to pass an unspecified number of positional arguments to a function.\n",
    "\n",
    "The **kwargs syntax allows a function to accept an arbitrary number of keyword arguments.\n",
    "\n",
    "The **kwargs parameter collects these keyword arguments into a dictionary, allowing access to the values using their respective keys.\n",
    "\n",
    "This is useful when you want to pass an unspecified number of keyword arguments to a function.\n"
   ]
  },
  {
   "cell_type": "code",
   "execution_count": null,
   "id": "b089d240-a516-470d-ae2a-ec50c8359ed7",
   "metadata": {},
   "outputs": [],
   "source": [
    "# Return Values and Scoping:"
   ]
  },
  {
   "cell_type": "raw",
   "id": "55ff8c62-6534-466f-b54f-5e379c560beb",
   "metadata": {},
   "source": [
    "# Describe the role of the `return` statement in Python functions and provide examples.\n",
    "ANS:\n",
    "The return statement in Python is used to terminate the execution of a function and return a value (or multiple values) to the calling code. It allows the function to produce a result that can be used or manipulated by the calling code.\n",
    "\n",
    "Here are the key aspects of the return statement:\n",
    "\n",
    "Returning Values:\n",
    "You can use the return statement to send back a value from the function to the point where it was called. The returned value can be of any data type.\n",
    "If you omit the return statement or use it without any value, the function returns None by default.\n",
    "\n",
    "Function Termination:\n",
    "The return statement not only provides a value to the caller but also terminates the function's execution. Any code after the return statement within the function will not be executed.\n",
    "\n",
    "Multiple Return Values:\n",
    "A function can return multiple values by separating them with commas in the return statement. The values are returned as a tuple, which can be unpacked in the calling code.\n",
    "\n",
    "def calculate(a, b):\n",
    "    sum_result = a + b\n",
    "    difference = a - b\n",
    "    return sum_result, difference\n",
    "\n",
    "sum_result, difference = calculate(10, 5)\n",
    "print(\"Sum:\", sum_result)  # Output: Sum: 15\n",
    "print(\"Difference:\", difference)  # Output: Difference: 5\n"
   ]
  },
  {
   "cell_type": "raw",
   "id": "b17ed041-d6e0-4ce2-bd1b-bfb7299029ec",
   "metadata": {},
   "source": [
    "# Explain the concept of variable scope in Python, including local and global variables.\n",
    "ANs:\n",
    "\n",
    "Variable scope in Python refers to the region in a program where a particular variable is accessible or can be referenced. The scope of a variable determines where in the code the variable can be used and accessed.\n",
    "\n",
    "There are two main types of variable scope in Python: local scope and global scope.\n",
    "\n",
    "Local Variables:\n",
    "Definition: Local variables are declared and used within a specific block or function. They are accessible only within that block or function and are not visible outside of it.\n",
    "Scope: The scope of a local variable is limited to the block or function in which it is defined.\n",
    "\n",
    "\n",
    "my_function()\n",
    "print(\"Outside the function:\", x)  # This will result in an error since x is a local variable\n",
    "\n",
    "\n",
    "Global Variables:\n",
    "\n",
    "Definition: Global variables are declared outside of any function or block and can be accessed throughout the entire program.\n",
    "\n",
    "Scope: The scope of a global variable includes the entire program, making it accessible from any part of the code.\n",
    "If you want to modify a global variable within a function, you need to use the global keyword to explicitly indicate that you're referring to the global variable."
   ]
  },
  {
   "cell_type": "code",
   "execution_count": 55,
   "id": "dcc20177-5811-461b-aad9-6cb93215cb45",
   "metadata": {},
   "outputs": [
    {
     "name": "stdout",
     "output_type": "stream",
     "text": [
      "Global variable outside the function: 10\n",
      "Global variable inside the function: 10\n",
      "Modified global variable inside the function: 20\n",
      "Global variable after modification: 20\n"
     ]
    }
   ],
   "source": [
    "# Write a Python program that demonstrates the use of global variables within functions\n",
    "\n",
    "global_variable = 10\n",
    "\n",
    "def access_global_variable():\n",
    "    print(\"Global variable inside the function:\", global_variable)\n",
    "\n",
    "def modify_global_variable():\n",
    "    global global_variable\n",
    "    global_variable = 20\n",
    "    print(\"Modified global variable inside the function:\", global_variable)\n",
    "print(\"Global variable outside the function:\", global_variable)\n",
    "access_global_variable()\n",
    "modify_global_variable()\n",
    "print(\"Global variable after modification:\", global_variable)\n"
   ]
  },
  {
   "cell_type": "code",
   "execution_count": 32,
   "id": "352e42eb-3c49-49dd-96d7-18e6d75669d1",
   "metadata": {},
   "outputs": [
    {
     "data": {
      "text/plain": [
       "120"
      ]
     },
     "execution_count": 32,
     "metadata": {},
     "output_type": "execute_result"
    }
   ],
   "source": [
    "# Create a Python function that calculates the factorial of a number and returns it\n",
    "def fact(n):\n",
    "    if n==0 or n==1:\n",
    "        return 1\n",
    "    else:\n",
    "        return n*fact(n-1)\n",
    "fact(5)"
   ]
  },
  {
   "cell_type": "code",
   "execution_count": 34,
   "id": "05402abe-f612-4739-8525-8551da7771c9",
   "metadata": {},
   "outputs": [
    {
     "name": "stdout",
     "output_type": "stream",
     "text": [
      "50\n"
     ]
    }
   ],
   "source": [
    "# How can you access variables defined outside a function from within the function\n",
    "x=20\n",
    "def add():\n",
    "    y=30\n",
    "    c=x+y\n",
    "    print(c)\n",
    "add()"
   ]
  },
  {
   "cell_type": "code",
   "execution_count": null,
   "id": "087a3bc2-787c-42f0-8b52-fdd82e852bac",
   "metadata": {},
   "outputs": [],
   "source": [
    "# Lambda Functions and Higher-Order Functions:"
   ]
  },
  {
   "cell_type": "code",
   "execution_count": 36,
   "id": "b6c23026-9add-4ed1-a548-67ebf80ae457",
   "metadata": {},
   "outputs": [],
   "source": [
    "# What are lambda functions in Python, and when are they typically used?\n",
    "ANS::=\n",
    "In Python, a lambda function, also known as an anonymous function or a lambda expression, is a small, unnamed function defined using the lambda keyword. Lambda functions are typically used when you need a simple, one-line function without defining a separate function using the def keyword."
   ]
  },
  {
   "cell_type": "code",
   "execution_count": 54,
   "id": "f0c9991c-eb0f-4e65-8f45-235308a821f2",
   "metadata": {},
   "outputs": [
    {
     "name": "stdout",
     "output_type": "stream",
     "text": [
      "[(4, 1), (3, 2), (5, 4), (1, 5), (2, 8)]\n"
     ]
    }
   ],
   "source": [
    "# Write a Python program that uses lambda functions to sort a list of tuples based on the second element.\n",
    "tuples_list = [(1, 5), (3, 2), (2, 8), (4, 1), (5, 4)]\n",
    "sorted_list = sorted(tuples_list, key=lambda x: x[1])\n",
    "print(sorted_list)\n"
   ]
  },
  {
   "cell_type": "raw",
   "id": "5329af36-f257-43a3-8781-37c23592e7b5",
   "metadata": {},
   "source": [
    "# Explain the concept of higher-order functions in Python, and provide an example.\n",
    "Ans::=\n",
    "In Python, a higher-order function is a function that can accept other functions as arguments and/or return functions as output. Essentially, a higher-order function treats functions as first-class citizens, allowing you to manipulate and work with functions in a flexible and powerful manner.\n",
    "\n",
    "Here are the key aspects of higher-order functions:\n",
    "\n",
    "Accepting Functions as Arguments:\n",
    "A higher-order function can take one or more functions as input parameters.\n",
    "This allows for behavior customization by passing different functions to achieve different results.\n",
    "\n",
    "Returning Functions as Output:\n",
    "A higher-order function can generate and return new functions based on the input functions or other criteria.\n",
    "This enables function factories or the creation of specialized functions.\n",
    "Higher-order functions are fundamental in functional programming paradigms and are widely used for operations like mapping, filtering, reducing, and more.\n",
    "\n",
    "def square(x):\n",
    "    return x ** 2\n",
    "numbers = [1, 2, 3, 4, 5]\n",
    "squared_numbers = map(square, numbers)\n",
    "squared_numbers_list = list(squared_numbers)\n",
    "print(\"Original numbers:\", numbers)\n",
    "print(\"Squared numbers:\", squared_numbers_list)\n"
   ]
  },
  {
   "cell_type": "code",
   "execution_count": 51,
   "id": "fafbee12-a0c9-41e5-b2e5-d85b48437486",
   "metadata": {},
   "outputs": [
    {
     "name": "stdout",
     "output_type": "stream",
     "text": [
      "[2, 4, 6, 8, 10]\n"
     ]
    }
   ],
   "source": [
    "# Create a Python function that takes a list of numbers and a function as arguments, applying the function to each element in the list.\n",
    "def apply_function_to_list(numbers, func):\n",
    "    result = []\n",
    "    for num in numbers:\n",
    "        result.append(func(num))\n",
    "    return result\n",
    "numbers = [1, 2, 3, 4, 5]\n",
    "def double(num):\n",
    "    return num * 2\n",
    "doubled_numbers = apply_function_to_list(numbers, double)\n",
    "print(doubled_numbers)\n"
   ]
  },
  {
   "cell_type": "code",
   "execution_count": null,
   "id": "a458191c-bf43-4b92-b4e0-a4669cd44958",
   "metadata": {},
   "outputs": [],
   "source": [
    "# Built-in Functions:"
   ]
  },
  {
   "cell_type": "raw",
   "id": "0422c2ef-775c-4c21-a809-63572819866e",
   "metadata": {},
   "source": [
    "# Describe the role of built-in functions like `len()`, `max()`, and `min()` in Python.\n",
    "Ans:\n",
    "Built-in functions like len(), max(), and min() in Python are fundamental functions provided by the Python standard library to perform specific common operations on data structures and values. These functions help developers efficiently work with data and perform various calculations or inspections.\n",
    "\n",
    "len() Function:\n",
    "Purpose: The len() function is used to determine the length or number of elements in an iterable or the size of a data structure.\n",
    "Usage: It takes an iterable (e.g., string, list, tuple, dictionary, set) as an argument and returns the number of elements or characters in that iterable.\n",
    "\n",
    "max() Function:\n",
    "Purpose: The max() function is used to find the maximum value among a collection of elements, whether it's numbers or other comparable objects.\n",
    "Usage: It takes one or more arguments (elements) and returns the maximum value.\n",
    "\n",
    "min() Function:\n",
    "Purpose: The min() function is used to find the minimum value among a collection of elements, similar to max().\n",
    "Usage: It takes one or more arguments (elements) and returns the minimum value."
   ]
  },
  {
   "cell_type": "code",
   "execution_count": 43,
   "id": "5703ebeb-7e5f-48e1-b1e5-1f93b1b51b72",
   "metadata": {},
   "outputs": [
    {
     "data": {
      "text/plain": [
       "[4, 6, 8, 12, 14]"
      ]
     },
     "execution_count": 43,
     "metadata": {},
     "output_type": "execute_result"
    }
   ],
   "source": [
    "# Write a Python program that uses the `map()` function to apply a function to each element of a list.\n",
    "l=[2,3,4,6,7]\n",
    "list(map(lambda a:a*2,l))"
   ]
  },
  {
   "cell_type": "raw",
   "id": "774368c0-9915-4f79-81f5-ce89f2910308",
   "metadata": {},
   "source": [
    "# How does the `filter()` function work in Python, and when would you use it?\n",
    "Ans:T\n",
    "he filter() function in Python is a built-in function that is used to construct an iterator from elements of an iterable for which a function returns true. It allows you to selectively include or exclude elements from the original iterable based on a specified filtering condition.\n",
    "Here's the syntax for filter():\n",
    "\n",
    "filter(function, iterable)\n",
    "\n",
    "\n",
    "function: A function that tests whether each element of an iterable should be included in the result. If None, it simply returns the elements of the iterable that are true.\n",
    "iterable: The iterable (e.g., list, tuple) whose elements will be tested against the filtering function.\n",
    "The filter() function applies the specified function to each item in the iterable, and if the function returns True for an item, that item is included in the result.\n",
    "\n",
    "Common Usage of filter():\n",
    "Filtering with a Custom Function: You can use filter() to filter elements from an iterable based on a custom-defined filtering function. For instance, you might want to filter out certain elements that meet specific criteria."
   ]
  },
  {
   "cell_type": "code",
   "execution_count": 50,
   "id": "35459f52-9956-4115-b895-efee81462966",
   "metadata": {},
   "outputs": [
    {
     "data": {
      "text/plain": [
       "5040"
      ]
     },
     "execution_count": 50,
     "metadata": {},
     "output_type": "execute_result"
    }
   ],
   "source": [
    "# reate a Python program that uses the `reduce()` function to find the product of all elements in a list.\n",
    "from functools import reduce \n",
    "l=[2,3,4,5,6,7]\n",
    "reduce(lambda a,b: a*b,l)"
   ]
  },
  {
   "cell_type": "code",
   "execution_count": null,
   "id": "2a375a6d-76ed-4e58-974e-2feb9f854eae",
   "metadata": {},
   "outputs": [],
   "source": [
    "# Function Documentation and Best Practices:"
   ]
  },
  {
   "cell_type": "raw",
   "id": "4cd9752b-70ec-4f77-9dcd-a3dbe7e4d627",
   "metadata": {},
   "source": [
    "# Explain the purpose of docstrings in Python functions and how to write them.\n",
    "Docstrings in Python are used to document functions, modules, classes, or methods within your code. They serve as a way to describe what the function does, its parameters, the return value, and any additional information that can help users understand and use the code effectively. Docstrings are essential for code readability, maintainability, and for \n",
    "\n",
    "generating documentation automatically.\n",
    "Here are the key purposes of using docstrings:\n",
    "\n",
    "Documentation for Users and Developers:\n",
    "Docstrings provide a clear, human-readable explanation of the purpose and usage of a function, aiding both developers and users in understanding its functionality.\n",
    "\n",
    "Automatic Generation of Documentation:\n",
    "Tools like Sphinx can automatically generate documentation from the docstrings, enabling you to create professional and comprehensive documentation for your project.\n",
    "\n",
    "In-IDE Documentation:\n",
    "IDEs (Integrated Development Environments) can display docstrings as tooltips or in a dedicated documentation window, making it easier for developers to reference the documentation while writing or using code.\n",
    "To write a docstring for a Python function, follow these conventions:\n",
    "\n",
    "Position and Format:\n",
    "Place the docstring immediately after the function definition, enclosed in triple double quotes (\"\"\").\n",
    "Use the \"triple double quotes\" format to allow multiline docstrings.\n",
    "\n",
    "Content:\n",
    "Start with a concise one-line summary of the function's purpose.\n",
    "Optionally, provide a more detailed description explaining the function's behavior, expected inputs, and return values.\n",
    "\n",
    "\n",
    "Example:\n",
    "\n",
    "python\n",
    "Copy code\n",
    "def greet(name):\n",
    "    \"\"\"\n",
    "    This function greets the user.\n",
    "\n",
    "    Parameters:\n",
    "    name (str): The name of the person to greet.\n",
    "\n",
    "    Returns:\n",
    "    str: A greeting message.\n",
    "    \n",
    "     greet('Alice')\n",
    "    'Hello, Alice!'\n",
    "    \"\"\"\n",
    "    return f'Hello, {name}!'"
   ]
  },
  {
   "cell_type": "raw",
   "id": "42e8cb46-8614-41d2-a612-2becd5509687",
   "metadata": {},
   "source": [
    "# Describe some best practices for naming functions and variables in Python, including naming conventions and guidelines.\n",
    "Ans:\n",
    "Choosing appropriate and descriptive names for functions and variables in Python is crucial for writing clean, readable, and maintainable code. Adhering to naming conventions and following best practices ensures consistency and clarity in your codebase. Here are some key best practices for naming functions and variables in Python:\n",
    "\n",
    "Use Descriptive and Meaningful Names:\n",
    "Choose names that accurately describe the purpose or functionality of the function or variable.\n",
    "Avoid using ambiguous or overly generic names that may confuse readers about the purpose of the entity.\n",
    "\n",
    "Follow PEP 8 Naming Conventions:\n",
    "Adhere to the PEP 8 style guide for Python, which provides standard conventions for naming functions and variables.\n",
    "Use lowercase letters for function and variable names, and separate words with underscores (_) for improved readability.\n",
    "\n",
    "Function Names:\n",
    "Use lowercase letters and underscores to separate words in function names.\n",
    "Choose descriptive names that clearly convey the action or purpose of the function.\n",
    "Prefer verbs or verb phrases to indicate actions performed by the function.\n",
    "\n",
    "Variable Names:\n",
    "Use lowercase letters and underscores to separate words in variable names.\n",
    "Choose descriptive names that clearly represent the data or content stored in the variable.\n",
    "Use nouns or noun phrases that reflect the purpose or content of the variable.\n",
    "\n",
    "Constants:\n",
    "Use uppercase letters and underscores to define constants.\n",
    "Constants should represent fixed values and are usually declared at the module level.\n",
    "Use descriptive names for constants to convey their purpose and usage.\n",
    "\n",
    "Module Names:\n",
    "Use lowercase letters and underscores for module names.\n",
    "Module names should be short, descriptive, and related to the module's contents or purpose.\n",
    "\n",
    "Avoid Single-letter Names:\n",
    "Except for simple loop variables (e.g., i, j, k), avoid using single-letter names as they are often unclear and not descriptive.\n",
    "\n",
    "Use CamelCase for Classes:\n",
    "Use CamelCase (initial capital letter for each word) for class names.\n",
    "Class names should be nouns or noun phrases, and they should reflect the nature of the class.\n",
    "\n",
    "Use Meaningful Prefixes or Suffixes:\n",
    "Use prefixes or suffixes when necessary to provide additional context or meaning to names.\n",
    "\n",
    "Be Consistent:\n",
    "Maintain consistent naming conventions throughout your codebase to ensure uniformity and readability."
   ]
  }
 ],
 "metadata": {
  "kernelspec": {
   "display_name": "Python 3 (ipykernel)",
   "language": "python",
   "name": "python3"
  },
  "language_info": {
   "codemirror_mode": {
    "name": "ipython",
    "version": 3
   },
   "file_extension": ".py",
   "mimetype": "text/x-python",
   "name": "python",
   "nbconvert_exporter": "python",
   "pygments_lexer": "ipython3",
   "version": "3.10.8"
  }
 },
 "nbformat": 4,
 "nbformat_minor": 5
}
